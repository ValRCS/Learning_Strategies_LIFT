{
 "cells": [
  {
   "cell_type": "code",
   "execution_count": null,
   "metadata": {},
   "outputs": [],
   "source": [
    "``"
   ]
  },
  {
   "cell_type": "markdown",
   "metadata": {},
   "source": [
    "# ADDIE - learning design model\n",
    "\n",
    "ADDIE is a learning design model that is used to guide the development of learning experiences. It is an acronym that stands for Analysis, Design, Development, Implementation, and Evaluation. The ADDIE model is a systematic approach to instructional design that consists of five phases. Each phase has a specific purpose and outcome that contributes to the overall success of the learning experience. The ADDIE model is widely used in the field of instructional design and is considered a best practice for designing effective learning experiences."
   ]
  },
  {
   "cell_type": "markdown",
   "metadata": {},
   "source": [
    "## Analysis\n",
    "\n",
    "The first phase of the ADDIE model is Analysis. During this phase, the instructional designer works with stakeholders to identify the learning goals and objectives, as well as the needs of the learners. The purpose of the Analysis phase is to gather information about the learning context, the target audience, and the desired outcomes of the learning experience. This information is used to inform the design of the learning experience and to ensure that it meets the needs of the learners."
   ]
  },
  {
   "cell_type": "markdown",
   "metadata": {},
   "source": [
    "### Analysis activities\n",
    "\n",
    "- Identify learning goals and objectives\n",
    "- Conduct a needs assessment\n",
    "- Analyze the target audience\n",
    "- Identify constraints and limitations\n",
    "- Define the scope of the project\n"
   ]
  },
  {
   "cell_type": "markdown",
   "metadata": {},
   "source": [
    "## Design\n",
    "\n",
    "The second phase of the ADDIE model is Design. During this phase, the instructional designer creates a detailed plan for the learning experience. This plan includes the learning objectives, the content that will be covered, the activities that will be used to engage learners, and the assessment methods that will be used to measure learning outcomes. The purpose of the Design phase is to create a blueprint for the learning experience that guides the development process."
   ]
  },
  {
   "cell_type": "markdown",
   "metadata": {},
   "source": [
    "## Development\n",
    "\n",
    "The third phase of the ADDIE model is Development. During this phase, the instructional designer creates the learning materials and resources that will be used in the learning experience. This may include creating presentations, videos, interactive activities, and assessments. The purpose of the Development phase is to bring the design plan to life and to create a high-quality learning experience that engages learners and helps them achieve their learning goals."
   ]
  },
  {
   "cell_type": "markdown",
   "metadata": {},
   "source": [
    "## Implementation\n",
    "\n",
    "The fourth phase of the ADDIE model is Implementation. During this phase, the learning experience is delivered to the learners. This may involve delivering the learning materials in a classroom setting, through an online platform, or through a combination of both. The purpose of the Implementation phase is to provide learners with the opportunity to engage with the learning materials and to apply what they have learned in a real-world context."
   ]
  },
  {
   "cell_type": "markdown",
   "metadata": {},
   "source": [
    "## Evaluation\n",
    "\n",
    "The final phase of the ADDIE model is Evaluation. During this phase, the instructional designer assesses the effectiveness of the learning experience. This may involve collecting feedback from learners, analyzing assessment results, and evaluating the overall impact of the learning experience on learner performance. The purpose of the Evaluation phase is to identify areas for improvement and to make adjustments to the learning experience to ensure that it meets the needs of the learners and achieves the desired learning outcomes."
   ]
  },
  {
   "cell_type": "code",
   "execution_count": null,
   "metadata": {},
   "outputs": [],
   "source": []
  }
 ],
 "metadata": {
  "kernelspec": {
   "display_name": "py312",
   "language": "python",
   "name": "python3"
  },
  "language_info": {
   "name": "python",
   "version": "3.12.5"
  }
 },
 "nbformat": 4,
 "nbformat_minor": 2
}
